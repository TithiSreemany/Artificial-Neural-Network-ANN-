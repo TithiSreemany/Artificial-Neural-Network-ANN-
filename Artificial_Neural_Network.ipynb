{
  "nbformat": 4,
  "nbformat_minor": 0,
  "metadata": {
    "colab": {
      "name": "Artificial Neural Network.ipynb",
      "provenance": [],
      "toc_visible": true,
      "authorship_tag": "ABX9TyM2yc6R5iU9ppC0dVtZjVyB",
      "include_colab_link": true
    },
    "kernelspec": {
      "name": "python3",
      "display_name": "Python 3"
    }
  },
  "cells": [
    {
      "cell_type": "markdown",
      "metadata": {
        "id": "view-in-github",
        "colab_type": "text"
      },
      "source": [
        "<a href=\"https://colab.research.google.com/github/TithiSreemany/Artificial-Neural-Network-ANN-/blob/main/Artificial_Neural_Network.ipynb\" target=\"_parent\"><img src=\"https://colab.research.google.com/assets/colab-badge.svg\" alt=\"Open In Colab\"/></a>"
      ]
    },
    {
      "cell_type": "markdown",
      "metadata": {
        "id": "oOtqjiOPvch-"
      },
      "source": [
        "# Artificial Neural Network (ANN)\n"
      ]
    },
    {
      "cell_type": "markdown",
      "metadata": {
        "id": "EHhEJoLMvlUB"
      },
      "source": [
        "### Importing the libraries"
      ]
    },
    {
      "cell_type": "code",
      "metadata": {
        "id": "cZGnpRjMvZVb"
      },
      "source": [
        "import numpy as np\n",
        "import pandas as pd\n",
        "import tensorflow as tf\n"
      ],
      "execution_count": 2,
      "outputs": []
    },
    {
      "cell_type": "code",
      "metadata": {
        "colab": {
          "base_uri": "https://localhost:8080/",
          "height": 35
        },
        "id": "R5jPlfkMv3Hd",
        "outputId": "fadb1d62-82ae-49b1-cd25-ad809d47b215"
      },
      "source": [
        "tf.__version__"
      ],
      "execution_count": 3,
      "outputs": [
        {
          "output_type": "execute_result",
          "data": {
            "application/vnd.google.colaboratory.intrinsic+json": {
              "type": "string"
            },
            "text/plain": [
              "'2.3.0'"
            ]
          },
          "metadata": {
            "tags": []
          },
          "execution_count": 3
        }
      ]
    },
    {
      "cell_type": "markdown",
      "metadata": {
        "id": "69bzHt0Ev9Ov"
      },
      "source": [
        "## Part 1 - Data Preprocessing"
      ]
    },
    {
      "cell_type": "markdown",
      "metadata": {
        "id": "cLKZIxqLwDcC"
      },
      "source": [
        "## Importing the dataset"
      ]
    },
    {
      "cell_type": "code",
      "metadata": {
        "id": "vGuBsxZcwN7w"
      },
      "source": [
        "dataset = pd.read_csv('Churn_Modelling.csv')\n",
        "X = dataset.iloc[:, 3:-1].values\n",
        "y = dataset.iloc[:, -1].values"
      ],
      "execution_count": 4,
      "outputs": []
    },
    {
      "cell_type": "code",
      "metadata": {
        "colab": {
          "base_uri": "https://localhost:8080/"
        },
        "id": "hQTEVrH8wgVP",
        "outputId": "8b005a25-2361-4254-c168-284099db7173"
      },
      "source": [
        "print(X)"
      ],
      "execution_count": 5,
      "outputs": [
        {
          "output_type": "stream",
          "text": [
            "[[619 'France' 'Female' ... 1 1 101348.88]\n",
            " [608 'Spain' 'Female' ... 0 1 112542.58]\n",
            " [502 'France' 'Female' ... 1 0 113931.57]\n",
            " ...\n",
            " [709 'France' 'Female' ... 0 1 42085.58]\n",
            " [772 'Germany' 'Male' ... 1 0 92888.52]\n",
            " [792 'France' 'Female' ... 1 0 38190.78]]\n"
          ],
          "name": "stdout"
        }
      ]
    },
    {
      "cell_type": "code",
      "metadata": {
        "colab": {
          "base_uri": "https://localhost:8080/"
        },
        "id": "gR3J7sOawkKW",
        "outputId": "cb4ed454-ca9f-48be-b8cb-b36172d16b6f"
      },
      "source": [
        "print(y)"
      ],
      "execution_count": 6,
      "outputs": [
        {
          "output_type": "stream",
          "text": [
            "[1 0 1 ... 1 1 0]\n"
          ],
          "name": "stdout"
        }
      ]
    },
    {
      "cell_type": "markdown",
      "metadata": {
        "id": "m2OLuBBcwqnf"
      },
      "source": [
        "### Encoding categorical data"
      ]
    },
    {
      "cell_type": "markdown",
      "metadata": {
        "id": "o_BCOeIuw16J"
      },
      "source": [
        "Label Encoding the \"Gender\" column"
      ]
    },
    {
      "cell_type": "code",
      "metadata": {
        "id": "MHoelrv7woX8"
      },
      "source": [
        "from sklearn.preprocessing import LabelEncoder\n",
        "le= LabelEncoder()\n",
        "X[:,2]=le.fit_transform(X[:,2])"
      ],
      "execution_count": 7,
      "outputs": []
    },
    {
      "cell_type": "code",
      "metadata": {
        "colab": {
          "base_uri": "https://localhost:8080/"
        },
        "id": "owai_zjSxW7y",
        "outputId": "fefdbac4-af3d-488f-cb93-94984a698754"
      },
      "source": [
        "print(X)"
      ],
      "execution_count": 8,
      "outputs": [
        {
          "output_type": "stream",
          "text": [
            "[[619 'France' 0 ... 1 1 101348.88]\n",
            " [608 'Spain' 0 ... 0 1 112542.58]\n",
            " [502 'France' 0 ... 1 0 113931.57]\n",
            " ...\n",
            " [709 'France' 0 ... 0 1 42085.58]\n",
            " [772 'Germany' 1 ... 1 0 92888.52]\n",
            " [792 'France' 0 ... 1 0 38190.78]]\n"
          ],
          "name": "stdout"
        }
      ]
    },
    {
      "cell_type": "markdown",
      "metadata": {
        "id": "LTHmBWYQxm_1"
      },
      "source": [
        "One Hot Encoding the \"Geography\" column"
      ]
    },
    {
      "cell_type": "code",
      "metadata": {
        "id": "CMvB0um6xjs9"
      },
      "source": [
        "from sklearn.compose import ColumnTransformer\n",
        "from sklearn.preprocessing import OneHotEncoder\n",
        "ct = ColumnTransformer(transformers=[('encoder', OneHotEncoder(), [1])], remainder='passthrough' ) \n",
        "X = np.array(ct.fit_transform(X))"
      ],
      "execution_count": 9,
      "outputs": []
    },
    {
      "cell_type": "code",
      "metadata": {
        "colab": {
          "base_uri": "https://localhost:8080/"
        },
        "id": "3Rbc6omCyXvI",
        "outputId": "e01ffa51-7917-43d5-d8cd-df7d622096dd"
      },
      "source": [
        "print(X)"
      ],
      "execution_count": 10,
      "outputs": [
        {
          "output_type": "stream",
          "text": [
            "[[1.0 0.0 0.0 ... 1 1 101348.88]\n",
            " [0.0 0.0 1.0 ... 0 1 112542.58]\n",
            " [1.0 0.0 0.0 ... 1 0 113931.57]\n",
            " ...\n",
            " [1.0 0.0 0.0 ... 0 1 42085.58]\n",
            " [0.0 1.0 0.0 ... 1 0 92888.52]\n",
            " [1.0 0.0 0.0 ... 1 0 38190.78]]\n"
          ],
          "name": "stdout"
        }
      ]
    },
    {
      "cell_type": "markdown",
      "metadata": {
        "id": "kE01hObKye-z"
      },
      "source": [
        "### Splitting the dataset into the Training set and Test set"
      ]
    },
    {
      "cell_type": "code",
      "metadata": {
        "id": "83vC4BoNyZZM"
      },
      "source": [
        "from sklearn.model_selection import train_test_split\n",
        "X_train, X_test, y_train, y_test = train_test_split(X, y, test_size = 0.2, random_state = 0)"
      ],
      "execution_count": 12,
      "outputs": []
    },
    {
      "cell_type": "markdown",
      "metadata": {
        "id": "Vv74zKCWysDc"
      },
      "source": [
        "### Feature Scaling"
      ]
    },
    {
      "cell_type": "code",
      "metadata": {
        "id": "z2xF1VfdymQ2"
      },
      "source": [
        "from sklearn.preprocessing import StandardScaler\n",
        "sc = StandardScaler()\n",
        "X_train = sc.fit_transform(X_train)\n",
        "X_test = sc.transform(X_test)"
      ],
      "execution_count": 13,
      "outputs": []
    },
    {
      "cell_type": "markdown",
      "metadata": {
        "id": "kGjgpRMLzLwa"
      },
      "source": [
        "## Part 2 - Building the ANN"
      ]
    },
    {
      "cell_type": "markdown",
      "metadata": {
        "id": "K3pIfToIzUGO"
      },
      "source": [
        "### Initialising the ANN"
      ]
    },
    {
      "cell_type": "code",
      "metadata": {
        "id": "7gEdaYMvyx47"
      },
      "source": [
        "ann= tf.keras.models.Sequential()"
      ],
      "execution_count": 20,
      "outputs": []
    },
    {
      "cell_type": "markdown",
      "metadata": {
        "id": "VTicGOOBzhlV"
      },
      "source": [
        "### Adding the input layer and the first hidden layer"
      ]
    },
    {
      "cell_type": "code",
      "metadata": {
        "id": "jy0Sa5NOzoiP"
      },
      "source": [
        "ann.add(tf.keras.layers.Dense(units=6, activation='relu'))"
      ],
      "execution_count": 21,
      "outputs": []
    },
    {
      "cell_type": "markdown",
      "metadata": {
        "id": "YDAkCa8w1FRV"
      },
      "source": [
        "### Adding the second hidden layer"
      ]
    },
    {
      "cell_type": "code",
      "metadata": {
        "id": "5ydwxza01L--"
      },
      "source": [
        "ann.add(tf.keras.layers.Dense(units=6, activation='relu'))"
      ],
      "execution_count": 22,
      "outputs": []
    },
    {
      "cell_type": "markdown",
      "metadata": {
        "id": "AxoXi-qD1Uel"
      },
      "source": [
        "### Adding the output layer"
      ]
    },
    {
      "cell_type": "code",
      "metadata": {
        "id": "_eP9VaxO1Tjf"
      },
      "source": [
        "ann.add(tf.keras.layers.Dense(units=1, activation='sigmoid'))"
      ],
      "execution_count": 23,
      "outputs": []
    },
    {
      "cell_type": "markdown",
      "metadata": {
        "id": "MW-R8-bx1grt"
      },
      "source": [
        "## Part 3 - Training the ANN"
      ]
    },
    {
      "cell_type": "markdown",
      "metadata": {
        "id": "gSSM1wxb1jw7"
      },
      "source": [
        "### Compiling the ANN"
      ]
    },
    {
      "cell_type": "code",
      "metadata": {
        "id": "OhfGOYa11ij7"
      },
      "source": [
        "ann.compile(optimizer='adam', loss='binary_crossentropy', metrics=['accuracy'])"
      ],
      "execution_count": 24,
      "outputs": []
    },
    {
      "cell_type": "markdown",
      "metadata": {
        "id": "1-8y_Dqr1-1l"
      },
      "source": [
        "### Training the ANN on the Training set"
      ]
    },
    {
      "cell_type": "code",
      "metadata": {
        "colab": {
          "base_uri": "https://localhost:8080/"
        },
        "id": "Ytsfg-oQ16oW",
        "outputId": "5431ebeb-80d9-4dfb-82b1-a9b21396d187"
      },
      "source": [
        "ann.fit(X_train, y_train, batch_size = 32, epochs = 100)"
      ],
      "execution_count": 25,
      "outputs": [
        {
          "output_type": "stream",
          "text": [
            "Epoch 1/100\n",
            "250/250 [==============================] - 0s 928us/step - loss: 0.6263 - accuracy: 0.6398\n",
            "Epoch 2/100\n",
            "250/250 [==============================] - 0s 985us/step - loss: 0.4883 - accuracy: 0.7855\n",
            "Epoch 3/100\n",
            "250/250 [==============================] - 0s 937us/step - loss: 0.4560 - accuracy: 0.7940\n",
            "Epoch 4/100\n",
            "250/250 [==============================] - 0s 921us/step - loss: 0.4357 - accuracy: 0.8023\n",
            "Epoch 5/100\n",
            "250/250 [==============================] - 0s 889us/step - loss: 0.4158 - accuracy: 0.8173\n",
            "Epoch 6/100\n",
            "250/250 [==============================] - 0s 886us/step - loss: 0.3973 - accuracy: 0.8269\n",
            "Epoch 7/100\n",
            "250/250 [==============================] - 0s 1ms/step - loss: 0.3849 - accuracy: 0.8361\n",
            "Epoch 8/100\n",
            "250/250 [==============================] - 0s 857us/step - loss: 0.3769 - accuracy: 0.8401\n",
            "Epoch 9/100\n",
            "250/250 [==============================] - 0s 909us/step - loss: 0.3719 - accuracy: 0.8420\n",
            "Epoch 10/100\n",
            "250/250 [==============================] - 0s 934us/step - loss: 0.3670 - accuracy: 0.8449\n",
            "Epoch 11/100\n",
            "250/250 [==============================] - 0s 931us/step - loss: 0.3635 - accuracy: 0.8480\n",
            "Epoch 12/100\n",
            "250/250 [==============================] - 0s 907us/step - loss: 0.3601 - accuracy: 0.8506\n",
            "Epoch 13/100\n",
            "250/250 [==============================] - 0s 904us/step - loss: 0.3576 - accuracy: 0.8508\n",
            "Epoch 14/100\n",
            "250/250 [==============================] - 0s 920us/step - loss: 0.3554 - accuracy: 0.8540\n",
            "Epoch 15/100\n",
            "250/250 [==============================] - 0s 906us/step - loss: 0.3539 - accuracy: 0.8540\n",
            "Epoch 16/100\n",
            "250/250 [==============================] - 0s 918us/step - loss: 0.3523 - accuracy: 0.8529\n",
            "Epoch 17/100\n",
            "250/250 [==============================] - 0s 883us/step - loss: 0.3512 - accuracy: 0.8554\n",
            "Epoch 18/100\n",
            "250/250 [==============================] - 0s 925us/step - loss: 0.3503 - accuracy: 0.8558\n",
            "Epoch 19/100\n",
            "250/250 [==============================] - 0s 1ms/step - loss: 0.3492 - accuracy: 0.8562\n",
            "Epoch 20/100\n",
            "250/250 [==============================] - 0s 890us/step - loss: 0.3487 - accuracy: 0.8539\n",
            "Epoch 21/100\n",
            "250/250 [==============================] - 0s 904us/step - loss: 0.3478 - accuracy: 0.8566\n",
            "Epoch 22/100\n",
            "250/250 [==============================] - 0s 905us/step - loss: 0.3473 - accuracy: 0.8581\n",
            "Epoch 23/100\n",
            "250/250 [==============================] - 0s 915us/step - loss: 0.3466 - accuracy: 0.8585\n",
            "Epoch 24/100\n",
            "250/250 [==============================] - 0s 920us/step - loss: 0.3460 - accuracy: 0.8585\n",
            "Epoch 25/100\n",
            "250/250 [==============================] - 0s 914us/step - loss: 0.3454 - accuracy: 0.8587\n",
            "Epoch 26/100\n",
            "250/250 [==============================] - 0s 965us/step - loss: 0.3446 - accuracy: 0.8581\n",
            "Epoch 27/100\n",
            "250/250 [==============================] - 0s 900us/step - loss: 0.3440 - accuracy: 0.8596\n",
            "Epoch 28/100\n",
            "250/250 [==============================] - 0s 1ms/step - loss: 0.3439 - accuracy: 0.8589\n",
            "Epoch 29/100\n",
            "250/250 [==============================] - 0s 907us/step - loss: 0.3435 - accuracy: 0.8591\n",
            "Epoch 30/100\n",
            "250/250 [==============================] - 0s 937us/step - loss: 0.3429 - accuracy: 0.8587\n",
            "Epoch 31/100\n",
            "250/250 [==============================] - 0s 940us/step - loss: 0.3424 - accuracy: 0.8585\n",
            "Epoch 32/100\n",
            "250/250 [==============================] - 0s 957us/step - loss: 0.3420 - accuracy: 0.8587\n",
            "Epoch 33/100\n",
            "250/250 [==============================] - 0s 903us/step - loss: 0.3416 - accuracy: 0.8610\n",
            "Epoch 34/100\n",
            "250/250 [==============================] - 0s 899us/step - loss: 0.3411 - accuracy: 0.8605\n",
            "Epoch 35/100\n",
            "250/250 [==============================] - 0s 918us/step - loss: 0.3408 - accuracy: 0.8599\n",
            "Epoch 36/100\n",
            "250/250 [==============================] - 0s 914us/step - loss: 0.3403 - accuracy: 0.8604\n",
            "Epoch 37/100\n",
            "250/250 [==============================] - 0s 923us/step - loss: 0.3404 - accuracy: 0.8612\n",
            "Epoch 38/100\n",
            "250/250 [==============================] - 0s 938us/step - loss: 0.3398 - accuracy: 0.8604\n",
            "Epoch 39/100\n",
            "250/250 [==============================] - 0s 966us/step - loss: 0.3394 - accuracy: 0.8626\n",
            "Epoch 40/100\n",
            "250/250 [==============================] - 0s 962us/step - loss: 0.3393 - accuracy: 0.8624\n",
            "Epoch 41/100\n",
            "250/250 [==============================] - 0s 920us/step - loss: 0.3395 - accuracy: 0.8614\n",
            "Epoch 42/100\n",
            "250/250 [==============================] - 0s 959us/step - loss: 0.3388 - accuracy: 0.8608\n",
            "Epoch 43/100\n",
            "250/250 [==============================] - 0s 913us/step - loss: 0.3383 - accuracy: 0.8620\n",
            "Epoch 44/100\n",
            "250/250 [==============================] - 0s 920us/step - loss: 0.3379 - accuracy: 0.8627\n",
            "Epoch 45/100\n",
            "250/250 [==============================] - 0s 950us/step - loss: 0.3381 - accuracy: 0.8616\n",
            "Epoch 46/100\n",
            "250/250 [==============================] - 0s 933us/step - loss: 0.3380 - accuracy: 0.8609\n",
            "Epoch 47/100\n",
            "250/250 [==============================] - 0s 893us/step - loss: 0.3374 - accuracy: 0.8622\n",
            "Epoch 48/100\n",
            "250/250 [==============================] - 0s 953us/step - loss: 0.3373 - accuracy: 0.8631\n",
            "Epoch 49/100\n",
            "250/250 [==============================] - 0s 924us/step - loss: 0.3370 - accuracy: 0.8636\n",
            "Epoch 50/100\n",
            "250/250 [==============================] - 0s 917us/step - loss: 0.3365 - accuracy: 0.8639\n",
            "Epoch 51/100\n",
            "250/250 [==============================] - 0s 920us/step - loss: 0.3365 - accuracy: 0.8630\n",
            "Epoch 52/100\n",
            "250/250 [==============================] - 0s 923us/step - loss: 0.3365 - accuracy: 0.8615\n",
            "Epoch 53/100\n",
            "250/250 [==============================] - 0s 958us/step - loss: 0.3364 - accuracy: 0.8639\n",
            "Epoch 54/100\n",
            "250/250 [==============================] - 0s 920us/step - loss: 0.3362 - accuracy: 0.8620\n",
            "Epoch 55/100\n",
            "250/250 [==============================] - 0s 924us/step - loss: 0.3358 - accuracy: 0.8626\n",
            "Epoch 56/100\n",
            "250/250 [==============================] - 0s 956us/step - loss: 0.3355 - accuracy: 0.8648\n",
            "Epoch 57/100\n",
            "250/250 [==============================] - 0s 933us/step - loss: 0.3357 - accuracy: 0.8644\n",
            "Epoch 58/100\n",
            "250/250 [==============================] - 0s 957us/step - loss: 0.3354 - accuracy: 0.8630\n",
            "Epoch 59/100\n",
            "250/250 [==============================] - 0s 911us/step - loss: 0.3353 - accuracy: 0.8629\n",
            "Epoch 60/100\n",
            "250/250 [==============================] - 0s 929us/step - loss: 0.3351 - accuracy: 0.8618\n",
            "Epoch 61/100\n",
            "250/250 [==============================] - 0s 895us/step - loss: 0.3351 - accuracy: 0.8641\n",
            "Epoch 62/100\n",
            "250/250 [==============================] - 0s 927us/step - loss: 0.3352 - accuracy: 0.8637\n",
            "Epoch 63/100\n",
            "250/250 [==============================] - 0s 868us/step - loss: 0.3347 - accuracy: 0.8625\n",
            "Epoch 64/100\n",
            "250/250 [==============================] - 0s 950us/step - loss: 0.3346 - accuracy: 0.8644\n",
            "Epoch 65/100\n",
            "250/250 [==============================] - 0s 918us/step - loss: 0.3349 - accuracy: 0.8635\n",
            "Epoch 66/100\n",
            "250/250 [==============================] - 0s 919us/step - loss: 0.3343 - accuracy: 0.8635\n",
            "Epoch 67/100\n",
            "250/250 [==============================] - 0s 963us/step - loss: 0.3344 - accuracy: 0.8639\n",
            "Epoch 68/100\n",
            "250/250 [==============================] - 0s 914us/step - loss: 0.3338 - accuracy: 0.8640\n",
            "Epoch 69/100\n",
            "250/250 [==============================] - 0s 985us/step - loss: 0.3339 - accuracy: 0.8646\n",
            "Epoch 70/100\n",
            "250/250 [==============================] - 0s 942us/step - loss: 0.3340 - accuracy: 0.8644\n",
            "Epoch 71/100\n",
            "250/250 [==============================] - 0s 960us/step - loss: 0.3335 - accuracy: 0.8639\n",
            "Epoch 72/100\n",
            "250/250 [==============================] - 0s 926us/step - loss: 0.3336 - accuracy: 0.8640\n",
            "Epoch 73/100\n",
            "250/250 [==============================] - 0s 986us/step - loss: 0.3334 - accuracy: 0.8650\n",
            "Epoch 74/100\n",
            "250/250 [==============================] - 0s 944us/step - loss: 0.3338 - accuracy: 0.8640\n",
            "Epoch 75/100\n",
            "250/250 [==============================] - 0s 929us/step - loss: 0.3331 - accuracy: 0.8652\n",
            "Epoch 76/100\n",
            "250/250 [==============================] - 0s 961us/step - loss: 0.3336 - accuracy: 0.8626\n",
            "Epoch 77/100\n",
            "250/250 [==============================] - 0s 1ms/step - loss: 0.3336 - accuracy: 0.8629\n",
            "Epoch 78/100\n",
            "250/250 [==============================] - 0s 999us/step - loss: 0.3331 - accuracy: 0.8635\n",
            "Epoch 79/100\n",
            "250/250 [==============================] - 0s 965us/step - loss: 0.3329 - accuracy: 0.8629\n",
            "Epoch 80/100\n",
            "250/250 [==============================] - 0s 955us/step - loss: 0.3329 - accuracy: 0.8648\n",
            "Epoch 81/100\n",
            "250/250 [==============================] - 0s 1ms/step - loss: 0.3328 - accuracy: 0.8627\n",
            "Epoch 82/100\n",
            "250/250 [==============================] - 0s 979us/step - loss: 0.3328 - accuracy: 0.8640\n",
            "Epoch 83/100\n",
            "250/250 [==============================] - 0s 952us/step - loss: 0.3327 - accuracy: 0.8641\n",
            "Epoch 84/100\n",
            "250/250 [==============================] - 0s 992us/step - loss: 0.3326 - accuracy: 0.8646\n",
            "Epoch 85/100\n",
            "250/250 [==============================] - 0s 973us/step - loss: 0.3318 - accuracy: 0.8620\n",
            "Epoch 86/100\n",
            "250/250 [==============================] - 0s 947us/step - loss: 0.3320 - accuracy: 0.8646\n",
            "Epoch 87/100\n",
            "250/250 [==============================] - 0s 997us/step - loss: 0.3323 - accuracy: 0.8646\n",
            "Epoch 88/100\n",
            "250/250 [==============================] - 0s 993us/step - loss: 0.3322 - accuracy: 0.8637\n",
            "Epoch 89/100\n",
            "250/250 [==============================] - 0s 967us/step - loss: 0.3320 - accuracy: 0.8652\n",
            "Epoch 90/100\n",
            "250/250 [==============================] - 0s 901us/step - loss: 0.3314 - accuracy: 0.8624\n",
            "Epoch 91/100\n",
            "250/250 [==============================] - 0s 1ms/step - loss: 0.3317 - accuracy: 0.8631\n",
            "Epoch 92/100\n",
            "250/250 [==============================] - 0s 902us/step - loss: 0.3317 - accuracy: 0.8648\n",
            "Epoch 93/100\n",
            "250/250 [==============================] - 0s 930us/step - loss: 0.3318 - accuracy: 0.8643\n",
            "Epoch 94/100\n",
            "250/250 [==============================] - 0s 953us/step - loss: 0.3322 - accuracy: 0.8633\n",
            "Epoch 95/100\n",
            "250/250 [==============================] - 0s 979us/step - loss: 0.3318 - accuracy: 0.8650\n",
            "Epoch 96/100\n",
            "250/250 [==============================] - 0s 934us/step - loss: 0.3315 - accuracy: 0.8634\n",
            "Epoch 97/100\n",
            "250/250 [==============================] - 0s 988us/step - loss: 0.3320 - accuracy: 0.8652\n",
            "Epoch 98/100\n",
            "250/250 [==============================] - 0s 937us/step - loss: 0.3319 - accuracy: 0.8651\n",
            "Epoch 99/100\n",
            "250/250 [==============================] - 0s 904us/step - loss: 0.3317 - accuracy: 0.8633\n",
            "Epoch 100/100\n",
            "250/250 [==============================] - 0s 1ms/step - loss: 0.3317 - accuracy: 0.8636\n"
          ],
          "name": "stdout"
        },
        {
          "output_type": "execute_result",
          "data": {
            "text/plain": [
              "<tensorflow.python.keras.callbacks.History at 0x7f3dbd9276d8>"
            ]
          },
          "metadata": {
            "tags": []
          },
          "execution_count": 25
        }
      ]
    },
    {
      "cell_type": "markdown",
      "metadata": {
        "id": "gWgz95ST2Q5l"
      },
      "source": [
        "## Part 4 - Making the predictions and evaluating the model\n"
      ]
    },
    {
      "cell_type": "markdown",
      "metadata": {
        "id": "5xFgRNkV2X5c"
      },
      "source": [
        "### Predicting the result of a single observation"
      ]
    },
    {
      "cell_type": "markdown",
      "metadata": {
        "id": "6BGE8aci2fVL"
      },
      "source": [
        "Use our ANN model to predict if the customer with the following informations will leave the bank:\n",
        "\n",
        "Geography: France\n",
        "\n",
        "Credit Score: 600\n",
        "\n",
        "Gender: Male\n",
        "\n",
        "Age: 40 years old\n",
        "\n",
        "Tenure: 3 years\n",
        "\n",
        "Balance: $ 60000\n",
        "\n",
        "Number of Products: 2\n",
        "\n",
        "Does this customer have a credit card? Yes\n",
        "\n",
        "Is this customer an Active Member: Yes\n",
        "\n",
        "Estimated Salary: $ 50000\n",
        "\n",
        "So, should we say goodbye to that customer?"
      ]
    },
    {
      "cell_type": "code",
      "metadata": {
        "colab": {
          "base_uri": "https://localhost:8080/"
        },
        "id": "dwV2QWXI2TUY",
        "outputId": "2d7afc62-a7ff-450e-b28c-bd122223ca1c"
      },
      "source": [
        "print(ann.predict(sc.transform([[1, 0, 0, 600, 1, 40, 3, 60000, 2, 1, 1, 50000]])) > 0.5)"
      ],
      "execution_count": 26,
      "outputs": [
        {
          "output_type": "stream",
          "text": [
            "[[False]]\n"
          ],
          "name": "stdout"
        }
      ]
    },
    {
      "cell_type": "markdown",
      "metadata": {
        "id": "c06M4a2I2nP8"
      },
      "source": [
        "Therefore, our ANN model predicts that this customer stays in the bank!"
      ]
    },
    {
      "cell_type": "markdown",
      "metadata": {
        "id": "It9ALHQq2tqD"
      },
      "source": [
        "### Predicting the Test set results"
      ]
    },
    {
      "cell_type": "code",
      "metadata": {
        "colab": {
          "base_uri": "https://localhost:8080/"
        },
        "id": "Wtvb9aCL2szD",
        "outputId": "8adf021d-2054-43ac-89d4-c92574c74331"
      },
      "source": [
        "y_pred = ann.predict(X_test)\n",
        "y_pred = (y_pred > 0.5)\n",
        "print(np.concatenate((y_pred.reshape(len(y_pred),1), y_test.reshape(len(y_test),1)),1))"
      ],
      "execution_count": 27,
      "outputs": [
        {
          "output_type": "stream",
          "text": [
            "[[0 0]\n",
            " [0 1]\n",
            " [0 0]\n",
            " ...\n",
            " [0 0]\n",
            " [0 0]\n",
            " [0 0]]\n"
          ],
          "name": "stdout"
        }
      ]
    },
    {
      "cell_type": "markdown",
      "metadata": {
        "id": "h6hl_ac63ATV"
      },
      "source": [
        "### Making the Confusion Matrix"
      ]
    },
    {
      "cell_type": "code",
      "metadata": {
        "colab": {
          "base_uri": "https://localhost:8080/"
        },
        "id": "GskbEYdt252h",
        "outputId": "ff1dbf80-a4fc-45d4-e0a7-3916fff05ea0"
      },
      "source": [
        "from sklearn.metrics import confusion_matrix, accuracy_score\n",
        "cm = confusion_matrix(y_test, y_pred)\n",
        "print(cm)\n",
        "accuracy_score(y_test, y_pred)"
      ],
      "execution_count": 28,
      "outputs": [
        {
          "output_type": "stream",
          "text": [
            "[[1499   96]\n",
            " [ 180  225]]\n"
          ],
          "name": "stdout"
        },
        {
          "output_type": "execute_result",
          "data": {
            "text/plain": [
              "0.862"
            ]
          },
          "metadata": {
            "tags": []
          },
          "execution_count": 28
        }
      ]
    },
    {
      "cell_type": "markdown",
      "metadata": {
        "id": "YNqpt_8d3Lfc"
      },
      "source": [
        "Hence we can conclude that our ANN Model has an accuracy of 86.2% in predicting the outcomes."
      ]
    }
  ]
}